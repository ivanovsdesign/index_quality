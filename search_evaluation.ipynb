{
 "cells": [
  {
   "cell_type": "markdown",
   "metadata": {},
   "source": [
    "# Оценка качества поиска"
   ]
  },
  {
   "cell_type": "markdown",
   "metadata": {},
   "source": [
    "Структура датасета: \n",
    "\n",
    "id\tquery_id\ttotal_result\tvisited_or_related_document_id\torder_number_of_the_document\tassessment_of_the_document\tjudgement_of_the_document"
   ]
  },
  {
   "cell_type": "code",
   "execution_count": 6,
   "metadata": {},
   "outputs": [
    {
     "name": "stdout",
     "output_type": "stream",
     "text": [
      "Requirement already satisfied: faiss-cpu in /Users/a1/anaconda3/lib/python3.11/site-packages (1.8.0)\n",
      "Requirement already satisfied: annoy in /Users/a1/anaconda3/lib/python3.11/site-packages (1.17.3)\n",
      "Requirement already satisfied: numpy in /Users/a1/anaconda3/lib/python3.11/site-packages (from faiss-cpu) (1.24.3)\n"
     ]
    }
   ],
   "source": [
    "!pip install faiss-cpu annoy"
   ]
  },
  {
   "cell_type": "code",
   "execution_count": 7,
   "metadata": {},
   "outputs": [],
   "source": [
    "import pandas as pd\n",
    "import numpy as np\n",
    "\n",
    "from sklearn.feature_extraction.text import TfidfVectorizer\n",
    "import faiss\n",
    "from annoy import AnnoyIndex"
   ]
  },
  {
   "cell_type": "code",
   "execution_count": 8,
   "metadata": {},
   "outputs": [
    {
     "data": {
      "text/html": [
       "<div>\n",
       "<style scoped>\n",
       "    .dataframe tbody tr th:only-of-type {\n",
       "        vertical-align: middle;\n",
       "    }\n",
       "\n",
       "    .dataframe tbody tr th {\n",
       "        vertical-align: top;\n",
       "    }\n",
       "\n",
       "    .dataframe thead th {\n",
       "        text-align: right;\n",
       "    }\n",
       "</style>\n",
       "<table border=\"1\" class=\"dataframe\">\n",
       "  <thead>\n",
       "    <tr style=\"text-align: right;\">\n",
       "      <th></th>\n",
       "      <th>Unnamed: 0</th>\n",
       "      <th>id</th>\n",
       "      <th>product_title</th>\n",
       "      <th>product_description</th>\n",
       "      <th>filename</th>\n",
       "      <th>format</th>\n",
       "      <th>mode</th>\n",
       "      <th>resolution</th>\n",
       "      <th>filesize</th>\n",
       "      <th>retrieved</th>\n",
       "      <th>file_exists</th>\n",
       "      <th>merged_text</th>\n",
       "    </tr>\n",
       "  </thead>\n",
       "  <tbody>\n",
       "    <tr>\n",
       "      <th>0</th>\n",
       "      <td>0</td>\n",
       "      <td>209650955</td>\n",
       "      <td>Триммер садовый электрический для травы</td>\n",
       "      <td>Модель беспроводной; аккумуляторный; ручной Ти...</td>\n",
       "      <td>res/img/209650955.png</td>\n",
       "      <td>PNG</td>\n",
       "      <td>RGBA</td>\n",
       "      <td>(246, 328)</td>\n",
       "      <td>171.35</td>\n",
       "      <td>2024-03-21 11:10:04.299254016</td>\n",
       "      <td>True</td>\n",
       "      <td>триммер садовый электрический для травы модель...</td>\n",
       "    </tr>\n",
       "    <tr>\n",
       "      <th>1</th>\n",
       "      <td>1</td>\n",
       "      <td>77278318</td>\n",
       "      <td>Триммер аккумуляторный садовый дачный кусторез</td>\n",
       "      <td>Модель разборная модель Питание Аккумулятор (в...</td>\n",
       "      <td>res/img/77278318.png</td>\n",
       "      <td>PNG</td>\n",
       "      <td>RGBA</td>\n",
       "      <td>(246, 328)</td>\n",
       "      <td>160.00</td>\n",
       "      <td>2024-03-21 11:13:44.241293056</td>\n",
       "      <td>True</td>\n",
       "      <td>триммер аккумуляторный садовый дачный кусторез...</td>\n",
       "    </tr>\n",
       "    <tr>\n",
       "      <th>2</th>\n",
       "      <td>2</td>\n",
       "      <td>18565737</td>\n",
       "      <td>Триммер аккумуляторный ZITREK GreenCut 20 (20В...</td>\n",
       "      <td>Модель GreenCut 20 Гарантийный срок 1 год Тип ...</td>\n",
       "      <td>res/img/18565737.png</td>\n",
       "      <td>PNG</td>\n",
       "      <td>RGBA</td>\n",
       "      <td>(246, 328)</td>\n",
       "      <td>17.67</td>\n",
       "      <td>2024-03-21 11:13:58.767094016</td>\n",
       "      <td>True</td>\n",
       "      <td>триммер аккумуляторный zitrek greencut 20 (20в...</td>\n",
       "    </tr>\n",
       "    <tr>\n",
       "      <th>3</th>\n",
       "      <td>3</td>\n",
       "      <td>113066515</td>\n",
       "      <td>Триммер аккумуляторный садовый дачный кусторез</td>\n",
       "      <td>Модель разборная модель Питание Аккумулятор (в...</td>\n",
       "      <td>res/img/113066515.png</td>\n",
       "      <td>PNG</td>\n",
       "      <td>RGBA</td>\n",
       "      <td>(246, 328)</td>\n",
       "      <td>128.90</td>\n",
       "      <td>2024-03-21 11:14:13.620366080</td>\n",
       "      <td>True</td>\n",
       "      <td>триммер аккумуляторный садовый дачный кусторез...</td>\n",
       "    </tr>\n",
       "    <tr>\n",
       "      <th>4</th>\n",
       "      <td>4</td>\n",
       "      <td>151530782</td>\n",
       "      <td>Триммер-газонокосилка аккумуляторный ZITREK Gr...</td>\n",
       "      <td>Модель GreenCut 20 Pro Гарантийный срок 1 год ...</td>\n",
       "      <td>res/img/151530782.png</td>\n",
       "      <td>PNG</td>\n",
       "      <td>RGBA</td>\n",
       "      <td>(246, 328)</td>\n",
       "      <td>128.13</td>\n",
       "      <td>2024-03-21 11:14:27.381707008</td>\n",
       "      <td>True</td>\n",
       "      <td>триммергазонокосилка аккумуляторный zitrek gre...</td>\n",
       "    </tr>\n",
       "  </tbody>\n",
       "</table>\n",
       "</div>"
      ],
      "text/plain": [
       "   Unnamed: 0         id                                      product_title  \\\n",
       "0           0  209650955            Триммер садовый электрический для травы   \n",
       "1           1   77278318     Триммер аккумуляторный садовый дачный кусторез   \n",
       "2           2   18565737  Триммер аккумуляторный ZITREK GreenCut 20 (20В...   \n",
       "3           3  113066515     Триммер аккумуляторный садовый дачный кусторез   \n",
       "4           4  151530782  Триммер-газонокосилка аккумуляторный ZITREK Gr...   \n",
       "\n",
       "                                 product_description               filename  \\\n",
       "0  Модель беспроводной; аккумуляторный; ручной Ти...  res/img/209650955.png   \n",
       "1  Модель разборная модель Питание Аккумулятор (в...   res/img/77278318.png   \n",
       "2  Модель GreenCut 20 Гарантийный срок 1 год Тип ...   res/img/18565737.png   \n",
       "3  Модель разборная модель Питание Аккумулятор (в...  res/img/113066515.png   \n",
       "4  Модель GreenCut 20 Pro Гарантийный срок 1 год ...  res/img/151530782.png   \n",
       "\n",
       "  format  mode  resolution  filesize                      retrieved  \\\n",
       "0    PNG  RGBA  (246, 328)    171.35  2024-03-21 11:10:04.299254016   \n",
       "1    PNG  RGBA  (246, 328)    160.00  2024-03-21 11:13:44.241293056   \n",
       "2    PNG  RGBA  (246, 328)     17.67  2024-03-21 11:13:58.767094016   \n",
       "3    PNG  RGBA  (246, 328)    128.90  2024-03-21 11:14:13.620366080   \n",
       "4    PNG  RGBA  (246, 328)    128.13  2024-03-21 11:14:27.381707008   \n",
       "\n",
       "   file_exists                                        merged_text  \n",
       "0         True  триммер садовый электрический для травы модель...  \n",
       "1         True  триммер аккумуляторный садовый дачный кусторез...  \n",
       "2         True  триммер аккумуляторный zitrek greencut 20 (20в...  \n",
       "3         True  триммер аккумуляторный садовый дачный кусторез...  \n",
       "4         True  триммергазонокосилка аккумуляторный zitrek gre...  "
      ]
     },
     "execution_count": 8,
     "metadata": {},
     "output_type": "execute_result"
    }
   ],
   "source": [
    "metadata = pd.read_csv('metadata.csv')\n",
    "metadata.head(5)"
   ]
  },
  {
   "cell_type": "code",
   "execution_count": 9,
   "metadata": {},
   "outputs": [],
   "source": [
    "# Sample documents\n",
    "documents = metadata[['id', 'product_title', 'merged_text', 'filename']]\n",
    "\n",
    "# Convert text data into TF-IDF vectors\n",
    "vectorizer = TfidfVectorizer()\n",
    "tfidf_matrix = vectorizer.fit_transform(documents['merged_text'])\n",
    "vectors = tfidf_matrix.toarray()"
   ]
  },
  {
   "cell_type": "markdown",
   "metadata": {},
   "source": [
    "### Инициализация [FAISS](https://github.com/facebookresearch/faiss/wiki/Faiss-indexes) и [Annoy]() с разными методами "
   ]
  },
  {
   "cell_type": "code",
   "execution_count": null,
   "metadata": {},
   "outputs": [],
   "source": [
    "# Indexing with Faiss\n",
    "d = vectors.shape[1]\n",
    "\n",
    "# FAISS L2\n",
    "faiss_L2 = faiss.IndexFlatL2(d)  \n",
    "faiss_L2.add(vectors.astype(np.float32))\n",
    "\n",
    "# FAISS Inner Product\n",
    "faiss_IP = faiss.IndexFlatIP(d)  # Inner product  \n",
    "faiss_IP.add(vectors.astype(np.float32))\n",
    "\n",
    "# Annoy Angular\n",
    "num_trees = 10\n",
    "annoy_angular = AnnoyIndex(d, 'angular')\n",
    "for i, vector in enumerate(vectors):\n",
    "    annoy_angular.add_item(i, vector)\n",
    "annoy_angular.build(num_trees)\n",
    "\n",
    "# Annoy Euclidean\n",
    "num_trees = 10\n",
    "annoy_angular = AnnoyIndex(d, 'euclidean')\n",
    "for i, vector in enumerate(vectors):\n",
    "    annoy_angular.add_item(i, vector)\n",
    "annoy_angular.build(num_trees)\n",
    "\n"
   ]
  }
 ],
 "metadata": {
  "kernelspec": {
   "display_name": "base",
   "language": "python",
   "name": "python3"
  },
  "language_info": {
   "codemirror_mode": {
    "name": "ipython",
    "version": 3
   },
   "file_extension": ".py",
   "mimetype": "text/x-python",
   "name": "python",
   "nbconvert_exporter": "python",
   "pygments_lexer": "ipython3",
   "version": "3.11.4"
  }
 },
 "nbformat": 4,
 "nbformat_minor": 2
}
